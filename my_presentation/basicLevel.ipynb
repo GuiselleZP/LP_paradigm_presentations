{
 "cells": [
  {
   "cell_type": "markdown",
   "metadata": {},
   "source": [
    "# Variables\n",
    "\n",
    "Una variable es un nombre asociado a un valor. \n",
    "Los nombres de las variabes distinguen entre mayúsculas y minúsculas.\n",
    "\n",
    "Los nombres Unicode (en codificación UTF-8) están permitidos. \n",
    "\n",
    "Se pueden escribir muchos símbolos matemáticos Unicode escribiendo \n",
    "el nombre del símbolo en LaTex con barra invertida seguido del tabulador\n"
   ]
  },
  {
   "cell_type": "code",
   "execution_count": 1,
   "metadata": {},
   "outputs": [
    {
     "data": {
      "text/plain": [
       "π = 3.1415926535897..."
      ]
     },
     "execution_count": 1,
     "metadata": {},
     "output_type": "execute_result"
    }
   ],
   "source": [
    "# \\pi + Tab\n",
    "π"
   ]
  },
  {
   "cell_type": "markdown",
   "metadata": {},
   "source": [
    "## Enteros\n",
    "\n",
    "El tipo predeterminado para un entero depende si el sistema de destino tiene una arquitectura de 32 bits o de 64 bits.\n",
    "\n",
    "La variable `Sys.WORD_SIZE` indica si el sistema de destino es de 32 o de 64 bits"
   ]
  },
  {
   "cell_type": "code",
   "execution_count": 2,
   "metadata": {},
   "outputs": [
    {
     "data": {
      "text/plain": [
       "64"
      ]
     },
     "execution_count": 2,
     "metadata": {},
     "output_type": "execute_result"
    }
   ],
   "source": [
    "Sys.WORD_SIZE"
   ]
  },
  {
   "cell_type": "markdown",
   "metadata": {},
   "source": [
    "Julia define los tipos `Int` y `UInt`, que son alias para los tipos de enteros nativos con y sin signo, respectivamente."
   ]
  },
  {
   "cell_type": "code",
   "execution_count": null,
   "metadata": {},
   "outputs": [],
   "source": []
  }
 ],
 "metadata": {
  "kernelspec": {
   "display_name": "Julia 1.1.0",
   "language": "julia",
   "name": "julia-1.1"
  },
  "language_info": {
   "file_extension": ".jl",
   "mimetype": "application/julia",
   "name": "julia",
   "version": "1.1.0"
  }
 },
 "nbformat": 4,
 "nbformat_minor": 2
}
