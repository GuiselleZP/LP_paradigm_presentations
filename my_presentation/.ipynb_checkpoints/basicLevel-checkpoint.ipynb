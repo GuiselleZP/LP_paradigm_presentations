{
 "cells": [
  {
   "cell_type": "markdown",
   "metadata": {},
   "source": [
    "# Variables\n",
    "\n",
    "Una variable es un nombre asociado a un valor. \n",
    "Los nombres de las variabes distinguen entre mayúsculas y minúsculas.\n",
    "\n",
    "En Julia al igual que python las variables no tienen necesidad de ser \n",
    "declaradas y luego asignadas, ya que estas se pueden declarar y asignar al tiempo\n",
    "\n",
    "Los nombres Unicode (en codificación UTF-8) están permitidos. \n",
    "Se pueden escribir muchos símbolos matemáticos Unicode escribiendo \n",
    "el nombre del símbolo en LaTex con barra invertida seguido del tabulador\n"
   ]
  },
  {
   "cell_type": "code",
   "execution_count": 1,
   "metadata": {},
   "outputs": [
    {
     "data": {
      "text/plain": [
       "π = 3.1415926535897..."
      ]
     },
     "execution_count": 1,
     "metadata": {},
     "output_type": "execute_result"
    }
   ],
   "source": [
    "# \\pi + Tab\n",
    "π"
   ]
  },
  {
   "cell_type": "markdown",
   "metadata": {},
   "source": [
    "## Enteros\n",
    "\n",
    "El tipo predeterminado para un entero depende si el sistema de destino tiene una arquitectura de 32 bits o de 64 bits.\n",
    "\n",
    "La variable `Sys.WORD_SIZE` indica si el sistema de destino es de 32 o de 64 bits"
   ]
  },
  {
   "cell_type": "code",
   "execution_count": 3,
   "metadata": {},
   "outputs": [
    {
     "data": {
      "text/plain": [
       "64"
      ]
     },
     "execution_count": 3,
     "metadata": {},
     "output_type": "execute_result"
    }
   ],
   "source": [
    "Sys.WORD_SIZE"
   ]
  },
  {
   "cell_type": "markdown",
   "metadata": {},
   "source": [
    "Julia define los tipos `Int` y `UInt`, que son alias para los tipos de enteros nativos con y sin signo, respectivamente."
   ]
  },
  {
   "cell_type": "code",
   "execution_count": 5,
   "metadata": {},
   "outputs": [
    {
     "name": "stdout",
     "output_type": "stream",
     "text": [
      "   Int8: [-128, 127]\n",
      "  Int16: [-32768, 32767]\n",
      "  Int32: [-2147483648, 2147483647]\n",
      "  Int64: [-9223372036854775808, 9223372036854775807]\n",
      " Int128: [-170141183460469231731687303715884105728, 170141183460469231731687303715884105727]\n",
      "  UInt8: [0, 255]\n",
      " UInt16: [0, 65535]\n",
      " UInt32: [0, 4294967295]\n",
      " UInt64: [0, 18446744073709551615]\n",
      "UInt128: [0, 340282366920938463463374607431768211455]\n"
     ]
    }
   ],
   "source": [
    "# ver el rango de valores para los tipos de enteros\n",
    "for index in [Int8, Int16, Int32, Int64, Int128, UInt8, UInt16, UInt32, UInt64, UInt128]\n",
    "    println(\"$(lpad(index, 7)): [$(typemin(index)), $(typemax(index))]\")\n",
    "end\n"
   ]
  },
  {
   "cell_type": "markdown",
   "metadata": {},
   "source": [
    "## Flotantes\n",
    "Se representan en los formatos estándar, utilizando la notación E cuando es necesario."
   ]
  },
  {
   "cell_type": "code",
   "execution_count": 10,
   "metadata": {},
   "outputs": [
    {
     "name": "stdout",
     "output_type": "stream",
     "text": [
      "1.0\n",
      "1.0e10\n"
     ]
    }
   ],
   "source": [
    "x = 1.0\n",
    "y = 1e10\n",
    "println(x)\n",
    "println(y)"
   ]
  },
  {
   "cell_type": "code",
   "execution_count": 12,
   "metadata": {},
   "outputs": [
    {
     "name": "stdout",
     "output_type": "stream",
     "text": [
      "(-Inf16, Inf16)\n",
      "(-Inf32, Inf32)\n",
      "(-Inf, Inf)\n"
     ]
    }
   ],
   "source": [
    "println((typemin(Float16), typemax(Float16)))\n",
    "println((typemin(Float32), typemax(Float32)))\n",
    "println((typemin(Float64), typemax(Float64)))"
   ]
  },
  {
   "cell_type": "code",
   "execution_count": 17,
   "metadata": {},
   "outputs": [
    {
     "name": "stdout",
     "output_type": "stream",
     "text": [
      "0.0\n",
      "Inf\n",
      "Inf\n",
      "NaN\n"
     ]
    }
   ],
   "source": [
    "println(1 / Inf)\n",
    "println(1 / 0)\n",
    "println(Inf + Inf)\n",
    "println(Inf - Inf)"
   ]
  },
  {
   "cell_type": "markdown",
   "metadata": {},
   "source": [
    "## Cadenas y caracteres\n",
    "\n"
   ]
  },
  {
   "cell_type": "code",
   "execution_count": 18,
   "metadata": {},
   "outputs": [
    {
     "name": "stdout",
     "output_type": "stream",
     "text": [
      "String\n",
      "Char\n"
     ]
    }
   ],
   "source": [
    "s = \"soy un String\"\n",
    "c = 'c'\n",
    "println(typeof(s))\n",
    "println(typeof(c))"
   ]
  },
  {
   "cell_type": "markdown",
   "metadata": {},
   "source": [
    "## Complejos"
   ]
  },
  {
   "cell_type": "code",
   "execution_count": 19,
   "metadata": {},
   "outputs": [
    {
     "name": "stdout",
     "output_type": "stream",
     "text": [
      "0.0 + 2.0im\n",
      "-7 - 4im\n"
     ]
    }
   ],
   "source": [
    "println(sqrt(complex(-4)))\n",
    "println((1+2im)*(-3+2im))"
   ]
  },
  {
   "cell_type": "markdown",
   "metadata": {},
   "source": [
    "# Coeficientes literales numéricos\n",
    "Para aclarar las fórmulas y expresiones numéricas comunes, Julia permite\n",
    "que las variables sean precedidas inmediatamente por un literal numérico,\n",
    "lo que implica la multiplicación.\n",
    "\n",
    "Esto hace que escribir expresiones polinómicas sea mucho más limpio."
   ]
  },
  {
   "cell_type": "code",
   "execution_count": 24,
   "metadata": {},
   "outputs": [
    {
     "data": {
      "text/plain": [
       "32840"
      ]
     },
     "execution_count": 24,
     "metadata": {},
     "output_type": "execute_result"
    }
   ],
   "source": [
    "x = 5\n",
    "3x^2 + 2^3x - 3"
   ]
  },
  {
   "cell_type": "code",
   "execution_count": 25,
   "metadata": {},
   "outputs": [
    {
     "data": {
      "text/plain": [
       "55"
      ]
     },
     "execution_count": 25,
     "metadata": {},
     "output_type": "execute_result"
    }
   ],
   "source": [
    "(x+6)x"
   ]
  }
 ],
 "metadata": {
  "kernelspec": {
   "display_name": "Julia 1.3.0",
   "language": "julia",
   "name": "julia-1.3"
  },
  "language_info": {
   "file_extension": ".jl",
   "mimetype": "application/julia",
   "name": "julia",
   "version": "1.3.0"
  }
 },
 "nbformat": 4,
 "nbformat_minor": 2
}
