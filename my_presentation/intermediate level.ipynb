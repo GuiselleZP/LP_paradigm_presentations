{
 "cells": [
  {
   "cell_type": "markdown",
   "metadata": {},
   "source": [
    "# Variables en Julia"
   ]
  },
  {
   "cell_type": "markdown",
   "metadata": {},
   "source": [
    "En Julia al igual que python las variables no tienen necesidad de ser declaradas y luego asignadas, ya que estas se pueden declarar y asignar al tiempo"
   ]
  },
  {
   "cell_type": "code",
   "execution_count": 53,
   "metadata": {},
   "outputs": [
    {
     "name": "stdout",
     "output_type": "stream",
     "text": [
      "String\n",
      "Int64\n",
      "Float64\n",
      "Char\n"
     ]
    }
   ],
   "source": [
    "S=\"soy un String\"\n",
    "I=1234\n",
    "F=1.2\n",
    "c='c'\n",
    "println(typeof(S))\n",
    "println(typeof(I))\n",
    "println(typeof(F))\n",
    "println(typeof(c))\n"
   ]
  },
  {
   "cell_type": "markdown",
   "metadata": {},
   "source": [
    "### Complejos"
   ]
  },
  {
   "cell_type": "code",
   "execution_count": 54,
   "metadata": {},
   "outputs": [
    {
     "name": "stdout",
     "output_type": "stream",
     "text": [
      "0.0 + 2.0im\n",
      "-7 - 4im\n"
     ]
    }
   ],
   "source": [
    "println(sqrt(complex(-4)))\n",
    "println((1+2im)*(-3+2im))"
   ]
  },
  {
   "cell_type": "markdown",
   "metadata": {},
   "source": [
    "### Listas"
   ]
  },
  {
   "cell_type": "markdown",
   "metadata": {},
   "source": [
    "Es importante recalcar que van desde 1 hasta n"
   ]
  },
  {
   "cell_type": "code",
   "execution_count": 58,
   "metadata": {},
   "outputs": [
    {
     "data": {
      "text/plain": [
       "6-element Array{Int64,1}:\n",
       " 1\n",
       " 2\n",
       " 3\n",
       " 4\n",
       " 1\n",
       " 2"
      ]
     },
     "execution_count": 58,
     "metadata": {},
     "output_type": "execute_result"
    }
   ],
   "source": [
    "L= [1,2,3,4]\n",
    "push!(L,1)   # => [1,2,3,4,1]\n",
    "push!(L,2)   # => [1,2,3,4,1,2]\n",
    "L[1]\n",
    "L"
   ]
  },
  {
   "cell_type": "markdown",
   "metadata": {},
   "source": [
    "El signo de exclamación ! al final de una función indica que esta modifica el estado de los parámetros"
   ]
  },
  {
   "cell_type": "markdown",
   "metadata": {},
   "source": [
    "Los arreglos pueden ser creados a partir de rangos, y para acceder a estos puede igual hacerse por rangos (slice)"
   ]
  },
  {
   "cell_type": "code",
   "execution_count": 59,
   "metadata": {},
   "outputs": [
    {
     "name": "stdout",
     "output_type": "stream",
     "text": [
      "[1, 2, 3, 4]\n",
      "[1, 2, 3]\n",
      "[2, 3, 4]\n"
     ]
    }
   ],
   "source": [
    "L = [1:4;] # => Int64 [1,2,3,4]\n",
    "println(L)\n",
    "println(L[1:3])\n",
    "println(L[2:end])"
   ]
  },
  {
   "cell_type": "markdown",
   "metadata": {},
   "source": [
    "### Tuplas"
   ]
  },
  {
   "cell_type": "markdown",
   "metadata": {},
   "source": [
    "Las tuplas se comportan de manera similar a las listas, con la excepción de que son inmutables."
   ]
  },
  {
   "cell_type": "code",
   "execution_count": 60,
   "metadata": {},
   "outputs": [
    {
     "data": {
      "text/plain": [
       "(1, 2, 3)"
      ]
     },
     "execution_count": 60,
     "metadata": {},
     "output_type": "execute_result"
    }
   ],
   "source": [
    "T = (1, 2, 3)"
   ]
  },
  {
   "cell_type": "code",
   "execution_count": 61,
   "metadata": {},
   "outputs": [
    {
     "data": {
      "text/plain": [
       "(1, 2, 3)"
      ]
     },
     "execution_count": 61,
     "metadata": {},
     "output_type": "execute_result"
    }
   ],
   "source": [
    "T2 =1,2,3"
   ]
  },
  {
   "cell_type": "markdown",
   "metadata": {},
   "source": [
    "### Diccionarios"
   ]
  },
  {
   "cell_type": "markdown",
   "metadata": {},
   "source": [
    "Pueden ser creados vacios o directamente con elementos"
   ]
  },
  {
   "cell_type": "code",
   "execution_count": 63,
   "metadata": {},
   "outputs": [
    {
     "data": {
      "text/plain": [
       "Dict{String,Int64} with 3 entries:\n",
       "  \"two\"   => 2\n",
       "  \"one\"   => 1\n",
       "  \"three\" => 3"
      ]
     },
     "execution_count": 63,
     "metadata": {},
     "output_type": "execute_result"
    }
   ],
   "source": [
    "empty_dict = Dict() # instanciación vacía\n",
    "filled_dict = Dict(\"one\"=> 1, \"two\"=> 2, \"three\"=> 3) # instanciación con elementos"
   ]
  },
  {
   "cell_type": "markdown",
   "metadata": {},
   "source": [
    "podemos acceder tanto a las llaves como a los valores de un diccionario por separado "
   ]
  },
  {
   "cell_type": "code",
   "execution_count": 65,
   "metadata": {},
   "outputs": [
    {
     "name": "stdout",
     "output_type": "stream",
     "text": [
      "[\"two\", \"one\", \"three\"]\n",
      "[2, 1, 3]\n"
     ]
    }
   ],
   "source": [
    "println(keys(filled_dict))\n",
    "println(values(filled_dict))"
   ]
  },
  {
   "cell_type": "markdown",
   "metadata": {},
   "source": [
    "podemos saber si un dato o una llave se encuentran en un diccionario , tambien si una llave-dato se encuentra en el diccionario"
   ]
  },
  {
   "cell_type": "code",
   "execution_count": 66,
   "metadata": {},
   "outputs": [
    {
     "name": "stdout",
     "output_type": "stream",
     "text": [
      "true\n",
      "false\n",
      "true\n",
      "false\n"
     ]
    }
   ],
   "source": [
    "println(in((\"one\" => 1), filled_dict)) # => true\n",
    "println(in((\"two\" => 3), filled_dict)) # => false\n",
    "println(haskey(filled_dict, \"one\")) # => true\n",
    "println(haskey(filled_dict, 1)) # => false"
   ]
  },
  {
   "cell_type": "markdown",
   "metadata": {},
   "source": [
    "### Conjuntos"
   ]
  },
  {
   "cell_type": "markdown",
   "metadata": {},
   "source": [
    "Se pueden hacer listas desordenadas sin elementos repetidos de la siguiente forma"
   ]
  },
  {
   "cell_type": "code",
   "execution_count": 67,
   "metadata": {},
   "outputs": [
    {
     "data": {
      "text/plain": [
       "Set([4, 2, 3, 1])"
      ]
     },
     "execution_count": 67,
     "metadata": {},
     "output_type": "execute_result"
    }
   ],
   "source": [
    "empty_set = Set() # => Set{Any}()\n",
    "filled_set = Set([1,2,2,3,4]) # => Set{Int64}(1,2,3,4)"
   ]
  },
  {
   "cell_type": "markdown",
   "metadata": {},
   "source": [
    "### Funciones elementales"
   ]
  },
  {
   "cell_type": "code",
   "execution_count": 52,
   "metadata": {},
   "outputs": [
    {
     "name": "stdout",
     "output_type": "stream",
     "text": [
      "---Redondeo\n",
      "3.0\n",
      "4.0\n",
      "3.0\n",
      "---Divisiones\n",
      "0\n",
      "1\n",
      "---Valor absoluto\n",
      "3.14165\n",
      "9.869964722499999\n",
      "---Funciones matemáticas\n",
      "15241578750190521\n",
      "1.23456789e8\n",
      "10.0\n"
     ]
    }
   ],
   "source": [
    "println(\"---Redondeo\")\n",
    "println(round(3.14165))\n",
    "println(ceil(3.14165))\n",
    "println(floor(3.14165))\n",
    "println(\"---Divisiones\")\n",
    "println(fld(3,4))\n",
    "println(cld(3,4))\n",
    "println(\"---Valor absoluto\")\n",
    "println(abs(-3.14165))\n",
    "println(abs2(-3.14165))\n",
    "println(\"---Funciones matemáticas\")\n",
    "println(123456789^2)\n",
    "println(sqrt(15241578750190521))\n",
    "println(log2(1024))"
   ]
  },
  {
   "cell_type": "markdown",
   "metadata": {},
   "source": [
    "# Funciones en Julia"
   ]
  },
  {
   "cell_type": "code",
   "execution_count": 4,
   "metadata": {},
   "outputs": [
    {
     "data": {
      "text/plain": [
       "5"
      ]
     },
     "execution_count": 4,
     "metadata": {},
     "output_type": "execute_result"
    }
   ],
   "source": [
    "Σ(x,y)= x+y\n",
    "Σ(2,3)"
   ]
  },
  {
   "cell_type": "markdown",
   "metadata": {},
   "source": [
    "funcion en Julia usando el comando \"function\" "
   ]
  },
  {
   "cell_type": "code",
   "execution_count": 5,
   "metadata": {},
   "outputs": [
    {
     "data": {
      "text/plain": [
       "5"
      ]
     },
     "execution_count": 5,
     "metadata": {},
     "output_type": "execute_result"
    }
   ],
   "source": [
    "function f(x,y)\n",
    "    x+y\n",
    "end\n",
    "f(2,3)"
   ]
  },
  {
   "cell_type": "markdown",
   "metadata": {},
   "source": [
    "Ejemplo dos formas de ver un operador como función \n"
   ]
  },
  {
   "cell_type": "code",
   "execution_count": 6,
   "metadata": {},
   "outputs": [
    {
     "data": {
      "text/plain": [
       "6"
      ]
     },
     "execution_count": 6,
     "metadata": {},
     "output_type": "execute_result"
    }
   ],
   "source": [
    "1+2+3"
   ]
  },
  {
   "cell_type": "code",
   "execution_count": 7,
   "metadata": {},
   "outputs": [
    {
     "data": {
      "text/plain": [
       "6"
      ]
     },
     "execution_count": 7,
     "metadata": {},
     "output_type": "execute_result"
    }
   ],
   "source": [
    "+(1,2,3)"
   ]
  },
  {
   "cell_type": "code",
   "execution_count": 8,
   "metadata": {},
   "outputs": [
    {
     "data": {
      "text/plain": [
       "6"
      ]
     },
     "execution_count": 8,
     "metadata": {},
     "output_type": "execute_result"
    }
   ],
   "source": [
    "F=+\n",
    "F(1,2,3)"
   ]
  },
  {
   "cell_type": "markdown",
   "metadata": {},
   "source": [
    "las funciones pueden tomar cero o más argumentos y devolver cero o más resultados.\n",
    "Como se ve en el siguiente ejemplo donde la función retorna dos valores como una tupla.\n"
   ]
  },
  {
   "cell_type": "code",
   "execution_count": 9,
   "metadata": {},
   "outputs": [
    {
     "data": {
      "text/plain": [
       "(7, -1)"
      ]
     },
     "execution_count": 9,
     "metadata": {},
     "output_type": "execute_result"
    }
   ],
   "source": [
    "fn(x,y)= x + y, x-y\n",
    "fn(3,4)"
   ]
  },
  {
   "cell_type": "markdown",
   "metadata": {},
   "source": [
    "# Estructuras de control"
   ]
  },
  {
   "cell_type": "markdown",
   "metadata": {},
   "source": [
    "julia provee una gran variedad de estructuras de flujo de control; las primeras cinco son estructuras estándar en un lenguaje de programación de alto nivel.\n"
   ]
  },
  {
   "cell_type": "markdown",
   "metadata": {},
   "source": [
    "En el caso de las task estas no son tan estándar: como tal esta estructura proporcionan un flujo de control no local, lo que permite cambiar entre cálculos suspendidos temporalmente. Esta es una construcción poderosa: tanto el manejo de excepciones como la multitarea cooperativa se implementan en Julia mediante tareas. "
   ]
  },
  {
   "cell_type": "markdown",
   "metadata": {},
   "source": [
    "* Compound Expressions(expresiones compuestas): begin and (;). \n"
   ]
  },
  {
   "cell_type": "markdown",
   "metadata": {},
   "source": [
    "En esta estructura se tiene una expresión que se evalúa  en varias subexpresiones devolviendo como valor la evaluación a la última subexpresión"
   ]
  },
  {
   "cell_type": "code",
   "execution_count": 10,
   "metadata": {},
   "outputs": [
    {
     "data": {
      "text/plain": [
       "3"
      ]
     },
     "execution_count": 10,
     "metadata": {},
     "output_type": "execute_result"
    }
   ],
   "source": [
    "z= begin\n",
    "    x=1\n",
    "    y=2\n",
    "    x+y\n",
    "end"
   ]
  },
  {
   "cell_type": "code",
   "execution_count": 13,
   "metadata": {},
   "outputs": [
    {
     "data": {
      "text/plain": [
       "3"
      ]
     },
     "execution_count": 13,
     "metadata": {},
     "output_type": "execute_result"
    }
   ],
   "source": [
    "z= (x=1;y=2;x+y)"
   ]
  },
  {
   "cell_type": "markdown",
   "metadata": {},
   "source": [
    "* Conditional Evaluation: if-elseif-else y ?: (ternary operator). "
   ]
  },
  {
   "cell_type": "markdown",
   "metadata": {},
   "source": [
    "* * if-elseif-else : Evaluación condicional que permite a porciones de codigo ser evaluados o no dependiendo de una expresión booleana.\n"
   ]
  },
  {
   "cell_type": "code",
   "execution_count": 15,
   "metadata": {},
   "outputs": [
    {
     "name": "stdout",
     "output_type": "stream",
     "text": [
      "x is less than y\n",
      "x is greater than y\n",
      "x is equal to y\n"
     ]
    }
   ],
   "source": [
    "function test(x,y)\n",
    "    if x<y\n",
    "        println(\"x is less than y\")\n",
    "    elseif x>y\n",
    "        println(\"x is greater than y\")\n",
    "    else\n",
    "        println(\"x is equal to y\")\n",
    "    end\n",
    "end\n",
    "test(1,2)\n",
    "test(2,1)\n",
    "test(1,1)"
   ]
  },
  {
   "cell_type": "markdown",
   "metadata": {},
   "source": [
    "* * ?: Se usa cuando se requiere un único valor para la expresión"
   ]
  },
  {
   "cell_type": "code",
   "execution_count": 17,
   "metadata": {},
   "outputs": [
    {
     "name": "stdout",
     "output_type": "stream",
     "text": [
      "less than\n",
      "not less than\n"
     ]
    }
   ],
   "source": [
    "x=1; y=2;\n",
    "println(x < y ? \"less than\" : \"not less than\")\n",
    "x=1; y=0;\n",
    "println(x < y ? \"less than\" : \"not less than\")"
   ]
  },
  {
   "cell_type": "markdown",
   "metadata": {},
   "source": [
    "* Short-Circuit Evaluation: &&, || and chained comparisons."
   ]
  },
  {
   "cell_type": "markdown",
   "metadata": {},
   "source": [
    "La evaluación de cortocircuito es bastante similar a la evaluación condicional. El comportamiento se encuentra en la mayoría de los lenguajes de programación imperativos que tienen operadores booleanos &&y ||: en una serie de expresiones booleanas conectadas por estos operadores, solo se evalúa el número mínimo de expresiones necesarias para determinar el valor booleano final de toda la cadena. Explícitamente, esto significa que:\n"
   ]
  },
  {
   "cell_type": "markdown",
   "metadata": {},
   "source": [
    "* * En la expresión a && b, la subexpresión b solo se evalúa si se evalúa  a como true."
   ]
  },
  {
   "cell_type": "markdown",
   "metadata": {},
   "source": [
    "* * En la expresión a || b, la subexpresión b solo se evalúa si se evalúa a como false."
   ]
  },
  {
   "cell_type": "markdown",
   "metadata": {},
   "source": [
    "*  Repeated Evaluation: Loops: while and for. "
   ]
  },
  {
   "cell_type": "code",
   "execution_count": 19,
   "metadata": {},
   "outputs": [
    {
     "name": "stdout",
     "output_type": "stream",
     "text": [
      "1\n",
      "2\n",
      "3\n",
      "4\n",
      "5\n"
     ]
    }
   ],
   "source": [
    "i=1\n",
    "while i<=5 \n",
    "    println(i)\n",
    "    i+=1\n",
    "end"
   ]
  },
  {
   "cell_type": "code",
   "execution_count": 20,
   "metadata": {},
   "outputs": [
    {
     "name": "stdout",
     "output_type": "stream",
     "text": [
      "1\n",
      "2\n",
      "3\n",
      "4\n",
      "5\n"
     ]
    }
   ],
   "source": [
    "for i=1:5\n",
    "    println(i)\n",
    "end"
   ]
  },
  {
   "cell_type": "markdown",
   "metadata": {},
   "source": [
    "*  Exception Handling: try-catch, error() and throw(). "
   ]
  },
  {
   "cell_type": "markdown",
   "metadata": {},
   "source": [
    "funcion trhow():se pueden crear excepciones de forma explícita"
   ]
  },
  {
   "cell_type": "code",
   "execution_count": 32,
   "metadata": {},
   "outputs": [
    {
     "data": {
      "text/plain": [
       "0.36787944117144233"
      ]
     },
     "execution_count": 32,
     "metadata": {},
     "output_type": "execute_result"
    }
   ],
   "source": [
    "f(x) = x>=0 ? exp(-x) : throw(DomainError(x,\"argument must be nonnegative\"))\n",
    "f(1)"
   ]
  },
  {
   "cell_type": "code",
   "execution_count": 33,
   "metadata": {},
   "outputs": [
    {
     "ename": "DomainError",
     "evalue": "DomainError with -1:\nargument must be nonnegative",
     "output_type": "error",
     "traceback": [
      "DomainError with -1:\nargument must be nonnegative",
      "",
      "Stacktrace:",
      " [1] f(::Int64) at .\\In[32]:1",
      " [2] top-level scope at In[33]:1"
     ]
    }
   ],
   "source": [
    "f(-1)"
   ]
  },
  {
   "cell_type": "markdown",
   "metadata": {},
   "source": [
    "función error:\n"
   ]
  },
  {
   "cell_type": "markdown",
   "metadata": {},
   "source": [
    "es usada para producir un ErrorException que interrumpe el flujo de control normal.\n"
   ]
  },
  {
   "cell_type": "code",
   "execution_count": 34,
   "metadata": {},
   "outputs": [
    {
     "data": {
      "text/plain": [
       "1.4142135623730951"
      ]
     },
     "execution_count": 34,
     "metadata": {},
     "output_type": "execute_result"
    }
   ],
   "source": [
    "fussy_sqrt(x) = x >= 0 ? sqrt(x) : error(\"negative x not allowed\")\n",
    "fussy_sqrt(2)"
   ]
  },
  {
   "cell_type": "code",
   "execution_count": 35,
   "metadata": {},
   "outputs": [
    {
     "ename": "ErrorException",
     "evalue": "negative x not allowed",
     "output_type": "error",
     "traceback": [
      "negative x not allowed",
      "",
      "Stacktrace:",
      " [1] error(::String) at .\\error.jl:33",
      " [2] fussy_sqrt(::Int64) at .\\In[34]:1",
      " [3] top-level scope at In[35]:1"
     ]
    }
   ],
   "source": [
    "fussy_sqrt(-1)"
   ]
  },
  {
   "cell_type": "markdown",
   "metadata": {},
   "source": [
    "try/catch:"
   ]
  },
  {
   "cell_type": "markdown",
   "metadata": {},
   "source": [
    "Permite a los Exceptions ser evaluados , y con este manejo prevenir cosas con las que la aplicación se rompería."
   ]
  },
  {
   "cell_type": "code",
   "execution_count": 43,
   "metadata": {},
   "outputs": [
    {
     "name": "stdout",
     "output_type": "stream",
     "text": [
      "UndefVarError(:som_other_var)\n"
     ]
    }
   ],
   "source": [
    "try\n",
    "    som_other_var\n",
    "catch e\n",
    "    println(e)\n",
    "end"
   ]
  },
  {
   "cell_type": "markdown",
   "metadata": {},
   "source": [
    "En el caso de arriba podemos observar el manejo de un error \"e\" en el que no se define correctamente la variable"
   ]
  },
  {
   "cell_type": "markdown",
   "metadata": {},
   "source": [
    "* Task"
   ]
  },
  {
   "cell_type": "markdown",
   "metadata": {},
   "source": [
    "Las tareas son una función de flujo de control que permite suspender y reanudar los cálculos de manera flexible. Esta característica a veces se llama con otros nombres, como las rutinas simétricas, los hilos livianos, la multitarea cooperativa o las continuaciones de una sola vez.\n"
   ]
  },
  {
   "cell_type": "markdown",
   "metadata": {},
   "source": [
    "Cuando un trabajo de computación (en la práctica, ejecutar una función particular) se designa como a Task, es posible interrumpirlo al cambiar a otro Task. El original Taskse puede reanudar más tarde, en cuyo punto continuará justo donde lo dejó. Al principio, esto puede parecer similar a una llamada de función. Sin embargo, hay dos diferencias clave. Primero, el cambio de tareas no utiliza ningún espacio, por lo que puede ocurrir cualquier número de cambios de tareas sin consumir la pila de llamadas. En segundo lugar, el cambio entre tareas puede ocurrir en cualquier orden, a diferencia de las llamadas a funciones, donde la función llamada debe terminar de ejecutarse antes de que el control regrese a la función de llamada\n"
   ]
  },
  {
   "cell_type": "markdown",
   "metadata": {},
   "source": [
    "Julia proporciona un mecanismo \"Channel\" para resolver este problema. Un \"Channel\" es una cola de primero en entrar, primero en salir que puede tener múltiples tareas que leen y escriben en él."
   ]
  },
  {
   "cell_type": "code",
   "execution_count": 44,
   "metadata": {},
   "outputs": [],
   "source": [
    "function producer(c::Channel)\n",
    "           put!(c, \"start\")\n",
    "           for n=1:4\n",
    "               put!(c, 2n)\n",
    "           end\n",
    "           put!(c, \"stop\")\n",
    "       end;"
   ]
  },
  {
   "cell_type": "code",
   "execution_count": 45,
   "metadata": {},
   "outputs": [],
   "source": [
    "chnl = Channel(producer);"
   ]
  },
  {
   "cell_type": "code",
   "execution_count": 46,
   "metadata": {},
   "outputs": [
    {
     "data": {
      "text/plain": [
       "\"start\""
      ]
     },
     "execution_count": 46,
     "metadata": {},
     "output_type": "execute_result"
    }
   ],
   "source": [
    "take!(chnl)"
   ]
  },
  {
   "cell_type": "code",
   "execution_count": 47,
   "metadata": {},
   "outputs": [
    {
     "data": {
      "text/plain": [
       "2"
      ]
     },
     "execution_count": 47,
     "metadata": {},
     "output_type": "execute_result"
    }
   ],
   "source": [
    "take!(chnl)"
   ]
  },
  {
   "cell_type": "code",
   "execution_count": 48,
   "metadata": {},
   "outputs": [
    {
     "data": {
      "text/plain": [
       "4"
      ]
     },
     "execution_count": 48,
     "metadata": {},
     "output_type": "execute_result"
    }
   ],
   "source": [
    "take!(chnl)"
   ]
  },
  {
   "cell_type": "code",
   "execution_count": 49,
   "metadata": {},
   "outputs": [
    {
     "data": {
      "text/plain": [
       "6"
      ]
     },
     "execution_count": 49,
     "metadata": {},
     "output_type": "execute_result"
    }
   ],
   "source": [
    "take!(chnl)"
   ]
  },
  {
   "cell_type": "code",
   "execution_count": 50,
   "metadata": {},
   "outputs": [
    {
     "data": {
      "text/plain": [
       "8"
      ]
     },
     "execution_count": 50,
     "metadata": {},
     "output_type": "execute_result"
    }
   ],
   "source": [
    "take!(chnl)"
   ]
  },
  {
   "cell_type": "code",
   "execution_count": 51,
   "metadata": {},
   "outputs": [
    {
     "data": {
      "text/plain": [
       "\"stop\""
      ]
     },
     "execution_count": 51,
     "metadata": {},
     "output_type": "execute_result"
    }
   ],
   "source": [
    "take!(chnl)"
   ]
  },
  {
   "cell_type": "markdown",
   "metadata": {},
   "source": [
    "Una forma de pensar de este comportamiento es que \"producer\" tenia permitido retornar varias veces. Entre las llamadas de put!, la ejecución de \"producer\" se suspende y el consumidor tiene el control."
   ]
  },
  {
   "cell_type": "code",
   "execution_count": null,
   "metadata": {},
   "outputs": [],
   "source": []
  }
 ],
 "metadata": {
  "kernelspec": {
   "display_name": "Julia 1.3.0",
   "language": "julia",
   "name": "julia-1.3"
  },
  "language_info": {
   "file_extension": ".jl",
   "mimetype": "application/julia",
   "name": "julia",
   "version": "1.3.0"
  }
 },
 "nbformat": 4,
 "nbformat_minor": 2
}
